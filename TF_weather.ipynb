{
 "cells": [
  {
   "cell_type": "markdown",
   "id": "efeb6143-d02e-4327-83c6-3b5e32ed0698",
   "metadata": {},
   "source": [
    "<h1 style=\"text-align:center;\">Long Short-Term Memory model to predict temperature at 12pm</h1>"
   ]
  },
  {
   "cell_type": "markdown",
   "id": "b3170474-ecd4-4eaa-93c4-655350caca52",
   "metadata": {},
   "source": [
    "The aim of this project is to predict temperature to use a LSTM model to predict the temperature at 12pm, as a function of several variables: wind direction, wind speed, dew point, atmospheric pressure, humidity and precipitation."
   ]
  },
  {
   "cell_type": "markdown",
   "id": "857228ae-ba40-480e-97fd-1101382f4e14",
   "metadata": {},
   "source": [
    "<h3>Preparing the data</h3>"
   ]
  },
  {
   "cell_type": "code",
   "execution_count": 1,
   "id": "6a491bd3-eb87-409a-83df-81fcc3b29231",
   "metadata": {},
   "outputs": [
    {
     "data": {
      "text/html": [
       "<div>\n",
       "<style scoped>\n",
       "    .dataframe tbody tr th:only-of-type {\n",
       "        vertical-align: middle;\n",
       "    }\n",
       "\n",
       "    .dataframe tbody tr th {\n",
       "        vertical-align: top;\n",
       "    }\n",
       "\n",
       "    .dataframe thead th {\n",
       "        text-align: right;\n",
       "    }\n",
       "</style>\n",
       "<table border=\"1\" class=\"dataframe\">\n",
       "  <thead>\n",
       "    <tr style=\"text-align: right;\">\n",
       "      <th></th>\n",
       "      <th>id</th>\n",
       "      <th>date</th>\n",
       "      <th>vent_direction</th>\n",
       "      <th>vent_vitesse</th>\n",
       "      <th>humidite</th>\n",
       "      <th>pluie_12</th>\n",
       "      <th>pluie_24</th>\n",
       "      <th>temperature</th>\n",
       "      <th>point_rosee</th>\n",
       "      <th>hpa</th>\n",
       "    </tr>\n",
       "  </thead>\n",
       "  <tbody>\n",
       "    <tr>\n",
       "      <th>0</th>\n",
       "      <td>7015</td>\n",
       "      <td>20190801120000</td>\n",
       "      <td>270</td>\n",
       "      <td>3.8</td>\n",
       "      <td>57</td>\n",
       "      <td>0.0</td>\n",
       "      <td>0.0</td>\n",
       "      <td>23.1</td>\n",
       "      <td>14.1</td>\n",
       "      <td>1011.7</td>\n",
       "    </tr>\n",
       "    <tr>\n",
       "      <th>1</th>\n",
       "      <td>7015</td>\n",
       "      <td>20190802120000</td>\n",
       "      <td>320</td>\n",
       "      <td>6.0</td>\n",
       "      <td>57</td>\n",
       "      <td>0.0</td>\n",
       "      <td>0.0</td>\n",
       "      <td>22.8</td>\n",
       "      <td>13.8</td>\n",
       "      <td>1011.9</td>\n",
       "    </tr>\n",
       "    <tr>\n",
       "      <th>2</th>\n",
       "      <td>7015</td>\n",
       "      <td>20190803120000</td>\n",
       "      <td>350</td>\n",
       "      <td>2.2</td>\n",
       "      <td>59</td>\n",
       "      <td>0.0</td>\n",
       "      <td>0.0</td>\n",
       "      <td>22.6</td>\n",
       "      <td>14.2</td>\n",
       "      <td>1013.9</td>\n",
       "    </tr>\n",
       "    <tr>\n",
       "      <th>3</th>\n",
       "      <td>7015</td>\n",
       "      <td>20190804120000</td>\n",
       "      <td>90</td>\n",
       "      <td>1.8</td>\n",
       "      <td>45</td>\n",
       "      <td>0.0</td>\n",
       "      <td>0.0</td>\n",
       "      <td>26.1</td>\n",
       "      <td>13.2</td>\n",
       "      <td>1009.3</td>\n",
       "    </tr>\n",
       "    <tr>\n",
       "      <th>4</th>\n",
       "      <td>7015</td>\n",
       "      <td>20190805120000</td>\n",
       "      <td>220</td>\n",
       "      <td>6.6</td>\n",
       "      <td>45</td>\n",
       "      <td>0.0</td>\n",
       "      <td>0.0</td>\n",
       "      <td>24.5</td>\n",
       "      <td>11.8</td>\n",
       "      <td>1006.2</td>\n",
       "    </tr>\n",
       "    <tr>\n",
       "      <th>5</th>\n",
       "      <td>7015</td>\n",
       "      <td>20190806120000</td>\n",
       "      <td>220</td>\n",
       "      <td>4.8</td>\n",
       "      <td>50</td>\n",
       "      <td>0.0</td>\n",
       "      <td>-0.1</td>\n",
       "      <td>22.2</td>\n",
       "      <td>11.3</td>\n",
       "      <td>1005.3</td>\n",
       "    </tr>\n",
       "    <tr>\n",
       "      <th>6</th>\n",
       "      <td>7015</td>\n",
       "      <td>20190807120000</td>\n",
       "      <td>240</td>\n",
       "      <td>7.7</td>\n",
       "      <td>50</td>\n",
       "      <td>-0.1</td>\n",
       "      <td>-0.1</td>\n",
       "      <td>23.2</td>\n",
       "      <td>12.2</td>\n",
       "      <td>1002.7</td>\n",
       "    </tr>\n",
       "    <tr>\n",
       "      <th>7</th>\n",
       "      <td>7015</td>\n",
       "      <td>20190808120000</td>\n",
       "      <td>210</td>\n",
       "      <td>3.7</td>\n",
       "      <td>66</td>\n",
       "      <td>0.4</td>\n",
       "      <td>0.4</td>\n",
       "      <td>21.7</td>\n",
       "      <td>15.1</td>\n",
       "      <td>1007.2</td>\n",
       "    </tr>\n",
       "    <tr>\n",
       "      <th>8</th>\n",
       "      <td>7015</td>\n",
       "      <td>20190809120000</td>\n",
       "      <td>180</td>\n",
       "      <td>5.5</td>\n",
       "      <td>80</td>\n",
       "      <td>6.4</td>\n",
       "      <td>6.6</td>\n",
       "      <td>23.9</td>\n",
       "      <td>20.2</td>\n",
       "      <td>1000.0</td>\n",
       "    </tr>\n",
       "    <tr>\n",
       "      <th>9</th>\n",
       "      <td>7015</td>\n",
       "      <td>20190810120000</td>\n",
       "      <td>220</td>\n",
       "      <td>10.4</td>\n",
       "      <td>43</td>\n",
       "      <td>0.0</td>\n",
       "      <td>0.2</td>\n",
       "      <td>23.4</td>\n",
       "      <td>10.1</td>\n",
       "      <td>1005.7</td>\n",
       "    </tr>\n",
       "  </tbody>\n",
       "</table>\n",
       "</div>"
      ],
      "text/plain": [
       "     id            date  vent_direction  vent_vitesse  humidite  pluie_12  \\\n",
       "0  7015  20190801120000             270           3.8        57       0.0   \n",
       "1  7015  20190802120000             320           6.0        57       0.0   \n",
       "2  7015  20190803120000             350           2.2        59       0.0   \n",
       "3  7015  20190804120000              90           1.8        45       0.0   \n",
       "4  7015  20190805120000             220           6.6        45       0.0   \n",
       "5  7015  20190806120000             220           4.8        50       0.0   \n",
       "6  7015  20190807120000             240           7.7        50      -0.1   \n",
       "7  7015  20190808120000             210           3.7        66       0.4   \n",
       "8  7015  20190809120000             180           5.5        80       6.4   \n",
       "9  7015  20190810120000             220          10.4        43       0.0   \n",
       "\n",
       "   pluie_24  temperature  point_rosee     hpa  \n",
       "0       0.0         23.1         14.1  1011.7  \n",
       "1       0.0         22.8         13.8  1011.9  \n",
       "2       0.0         22.6         14.2  1013.9  \n",
       "3       0.0         26.1         13.2  1009.3  \n",
       "4       0.0         24.5         11.8  1006.2  \n",
       "5      -0.1         22.2         11.3  1005.3  \n",
       "6      -0.1         23.2         12.2  1002.7  \n",
       "7       0.4         21.7         15.1  1007.2  \n",
       "8       6.6         23.9         20.2  1000.0  \n",
       "9       0.2         23.4         10.1  1005.7  "
      ]
     },
     "execution_count": 1,
     "metadata": {},
     "output_type": "execute_result"
    }
   ],
   "source": [
    "import pandas as pd\n",
    "import  numpy as np\n",
    "import matplotlib as mpl\n",
    "import matplotlib.pyplot as plt\n",
    "import tensorflow as tf\n",
    "from sklearn.model_selection import train_test_split\n",
    "from sklearn.preprocessing import StandardScaler\n",
    "from tensorflow.keras.models import Sequential\n",
    "from tensorflow.keras.layers import LSTM, Dense, Dropout, Flatten\n",
    "\n",
    "file_path = './weather.csv'\n",
    "weather_data = pd.read_csv(file_path,sep=';')\n",
    "\n",
    "weather_data.head(10)"
   ]
  },
  {
   "cell_type": "code",
   "execution_count": 2,
   "id": "8039edd0-069c-4c05-b5d5-afa4c7192a8d",
   "metadata": {},
   "outputs": [],
   "source": [
    "x_data = weather_data.drop(weather_data.columns[[0, 1, 7]], axis=1, inplace=False)\n",
    "y_data = weather_data[['temperature']]"
   ]
  },
  {
   "cell_type": "code",
   "execution_count": 3,
   "id": "c38dca9c-8811-4c30-87dd-15ed87be1bf6",
   "metadata": {},
   "outputs": [
    {
     "name": "stdout",
     "output_type": "stream",
     "text": [
      "X_train shape: (1493, 1, 7)\n",
      "X_test shape: (374, 1, 7)\n",
      "Y_train shape: (1493, 1, 1)\n",
      "Y_test shape: (374, 1, 1)\n"
     ]
    },
    {
     "data": {
      "text/html": [
       "<div>\n",
       "<style scoped>\n",
       "    .dataframe tbody tr th:only-of-type {\n",
       "        vertical-align: middle;\n",
       "    }\n",
       "\n",
       "    .dataframe tbody tr th {\n",
       "        vertical-align: top;\n",
       "    }\n",
       "\n",
       "    .dataframe thead th {\n",
       "        text-align: right;\n",
       "    }\n",
       "</style>\n",
       "<table border=\"1\" class=\"dataframe\">\n",
       "  <thead>\n",
       "    <tr style=\"text-align: right;\">\n",
       "      <th></th>\n",
       "      <th>vent_direction</th>\n",
       "      <th>vent_vitesse</th>\n",
       "      <th>humidite</th>\n",
       "      <th>pluie_12</th>\n",
       "      <th>pluie_24</th>\n",
       "      <th>point_rosee</th>\n",
       "      <th>hpa</th>\n",
       "    </tr>\n",
       "  </thead>\n",
       "  <tbody>\n",
       "    <tr>\n",
       "      <th>1134</th>\n",
       "      <td>210</td>\n",
       "      <td>8.2</td>\n",
       "      <td>89</td>\n",
       "      <td>6.9</td>\n",
       "      <td>10.2</td>\n",
       "      <td>15.1</td>\n",
       "      <td>1002.2</td>\n",
       "    </tr>\n",
       "    <tr>\n",
       "      <th>244</th>\n",
       "      <td>80</td>\n",
       "      <td>2.6</td>\n",
       "      <td>38</td>\n",
       "      <td>0.0</td>\n",
       "      <td>0.0</td>\n",
       "      <td>-4.0</td>\n",
       "      <td>1016.0</td>\n",
       "    </tr>\n",
       "    <tr>\n",
       "      <th>1157</th>\n",
       "      <td>250</td>\n",
       "      <td>3.1</td>\n",
       "      <td>96</td>\n",
       "      <td>10.5</td>\n",
       "      <td>10.7</td>\n",
       "      <td>12.8</td>\n",
       "      <td>1015.1</td>\n",
       "    </tr>\n",
       "    <tr>\n",
       "      <th>1245</th>\n",
       "      <td>230</td>\n",
       "      <td>11.1</td>\n",
       "      <td>74</td>\n",
       "      <td>-0.1</td>\n",
       "      <td>2.0</td>\n",
       "      <td>5.8</td>\n",
       "      <td>1000.9</td>\n",
       "    </tr>\n",
       "    <tr>\n",
       "      <th>721</th>\n",
       "      <td>50</td>\n",
       "      <td>6.0</td>\n",
       "      <td>45</td>\n",
       "      <td>0.0</td>\n",
       "      <td>0.0</td>\n",
       "      <td>11.4</td>\n",
       "      <td>1010.2</td>\n",
       "    </tr>\n",
       "  </tbody>\n",
       "</table>\n",
       "</div>"
      ],
      "text/plain": [
       "      vent_direction  vent_vitesse  humidite  pluie_12  pluie_24  point_rosee  \\\n",
       "1134             210           8.2        89       6.9      10.2         15.1   \n",
       "244               80           2.6        38       0.0       0.0         -4.0   \n",
       "1157             250           3.1        96      10.5      10.7         12.8   \n",
       "1245             230          11.1        74      -0.1       2.0          5.8   \n",
       "721               50           6.0        45       0.0       0.0         11.4   \n",
       "\n",
       "         hpa  \n",
       "1134  1002.2  \n",
       "244   1016.0  \n",
       "1157  1015.1  \n",
       "1245  1000.9  \n",
       "721   1010.2  "
      ]
     },
     "execution_count": 3,
     "metadata": {},
     "output_type": "execute_result"
    }
   ],
   "source": [
    "pd_x_train, pd_x_test, pd_y_train, pd_y_test = train_test_split(x_data, y_data, test_size=0.2, random_state=42)\n",
    "\n",
    "x_train = np.array(pd_x_train)\n",
    "y_train = np.array(pd_y_train)\n",
    "x_test = np.array(pd_x_test)\n",
    "y_test = np.array(pd_y_test)\n",
    "\n",
    "scaler = StandardScaler()\n",
    "X_train_normalized = scaler.fit_transform(x_train)\n",
    "X_train = X_train_normalized.reshape((X_train_normalized.shape[0], 1, X_train_normalized.shape[1]))\n",
    "Y_train_normalized = scaler.fit_transform(y_train)\n",
    "Y_train = Y_train_normalized.reshape((Y_train_normalized.shape[0], 1, Y_train_normalized.shape[1]))\n",
    "\n",
    "X_test_normalized = scaler.fit_transform(x_test)\n",
    "X_test = X_test_normalized.reshape((X_test_normalized.shape[0], 1, X_test_normalized.shape[1]))\n",
    "Y_test_normalized = scaler.fit_transform(y_test)\n",
    "Y_test = Y_test_normalized.reshape((Y_test_normalized.shape[0], 1, Y_test_normalized.shape[1]))\n",
    "\n",
    "print(f\"X_train shape: {X_train.shape}\")\n",
    "print(f\"X_test shape: {X_test.shape}\")\n",
    "\n",
    "print(f\"Y_train shape: {Y_train.shape}\")\n",
    "print(f\"Y_test shape: {Y_test.shape}\")\n",
    "pd_x_train.head(5)"
   ]
  },
  {
   "cell_type": "markdown",
   "id": "826e73d5-c97b-4e61-a247-ce63e883af7c",
   "metadata": {},
   "source": [
    "<h3>Building the model</h3>"
   ]
  },
  {
   "cell_type": "code",
   "execution_count": null,
   "id": "a20c420b-1cf6-4c59-8812-8209df3d95cb",
   "metadata": {},
   "outputs": [],
   "source": [
    "model = Sequential()\n",
    "model.add(LSTM(256, return_sequences=True, input_shape=(X_train.shape[1],X_train.shape[2]))) # 256 neurones LSTM\n",
    "model.add(Dropout(0.2))\n",
    "model.add(Dense (1))\n",
    "model.add(Flatten())\n",
    "model.compile(optimizer='adam', loss='mse', metrics=['mae'])"
   ]
  },
  {
   "cell_type": "code",
   "execution_count": 5,
   "id": "af169994-f63d-45de-a7a2-23811105ff65",
   "metadata": {},
   "outputs": [
    {
     "name": "stdout",
     "output_type": "stream",
     "text": [
      "INFO:tensorflow:Assets written to: model/assets\n"
     ]
    },
    {
     "name": "stderr",
     "output_type": "stream",
     "text": [
      "INFO:tensorflow:Assets written to: model/assets\n"
     ]
    },
    {
     "data": {
      "text/html": [
       "<pre style=\"white-space:pre;overflow-x:auto;line-height:normal;font-family:Menlo,'DejaVu Sans Mono',consolas,'Courier New',monospace\"><span style=\"font-weight: bold\">Model: \"sequential\"</span>\n",
       "</pre>\n"
      ],
      "text/plain": [
       "\u001b[1mModel: \"sequential\"\u001b[0m\n"
      ]
     },
     "metadata": {},
     "output_type": "display_data"
    },
    {
     "data": {
      "text/html": [
       "<pre style=\"white-space:pre;overflow-x:auto;line-height:normal;font-family:Menlo,'DejaVu Sans Mono',consolas,'Courier New',monospace\">┏━━━━━━━━━━━━━━━━━━━━━━━━━━━━━━━━━┳━━━━━━━━━━━━━━━━━━━━━━━━┳━━━━━━━━━━━━━━━┓\n",
       "┃<span style=\"font-weight: bold\"> Layer (type)                    </span>┃<span style=\"font-weight: bold\"> Output Shape           </span>┃<span style=\"font-weight: bold\">       Param # </span>┃\n",
       "┡━━━━━━━━━━━━━━━━━━━━━━━━━━━━━━━━━╇━━━━━━━━━━━━━━━━━━━━━━━━╇━━━━━━━━━━━━━━━┩\n",
       "│ lstm (<span style=\"color: #0087ff; text-decoration-color: #0087ff\">LSTM</span>)                     │ (<span style=\"color: #00d7ff; text-decoration-color: #00d7ff\">None</span>, <span style=\"color: #00af00; text-decoration-color: #00af00\">1</span>, <span style=\"color: #00af00; text-decoration-color: #00af00\">256</span>)         │       <span style=\"color: #00af00; text-decoration-color: #00af00\">270,336</span> │\n",
       "├─────────────────────────────────┼────────────────────────┼───────────────┤\n",
       "│ dropout (<span style=\"color: #0087ff; text-decoration-color: #0087ff\">Dropout</span>)               │ (<span style=\"color: #00d7ff; text-decoration-color: #00d7ff\">None</span>, <span style=\"color: #00af00; text-decoration-color: #00af00\">1</span>, <span style=\"color: #00af00; text-decoration-color: #00af00\">256</span>)         │             <span style=\"color: #00af00; text-decoration-color: #00af00\">0</span> │\n",
       "├─────────────────────────────────┼────────────────────────┼───────────────┤\n",
       "│ dense (<span style=\"color: #0087ff; text-decoration-color: #0087ff\">Dense</span>)                   │ (<span style=\"color: #00d7ff; text-decoration-color: #00d7ff\">None</span>, <span style=\"color: #00af00; text-decoration-color: #00af00\">1</span>, <span style=\"color: #00af00; text-decoration-color: #00af00\">1</span>)           │           <span style=\"color: #00af00; text-decoration-color: #00af00\">257</span> │\n",
       "├─────────────────────────────────┼────────────────────────┼───────────────┤\n",
       "│ flatten (<span style=\"color: #0087ff; text-decoration-color: #0087ff\">Flatten</span>)               │ (<span style=\"color: #00d7ff; text-decoration-color: #00d7ff\">None</span>, <span style=\"color: #00af00; text-decoration-color: #00af00\">1</span>)              │             <span style=\"color: #00af00; text-decoration-color: #00af00\">0</span> │\n",
       "└─────────────────────────────────┴────────────────────────┴───────────────┘\n",
       "</pre>\n"
      ],
      "text/plain": [
       "┏━━━━━━━━━━━━━━━━━━━━━━━━━━━━━━━━━┳━━━━━━━━━━━━━━━━━━━━━━━━┳━━━━━━━━━━━━━━━┓\n",
       "┃\u001b[1m \u001b[0m\u001b[1mLayer (type)                   \u001b[0m\u001b[1m \u001b[0m┃\u001b[1m \u001b[0m\u001b[1mOutput Shape          \u001b[0m\u001b[1m \u001b[0m┃\u001b[1m \u001b[0m\u001b[1m      Param #\u001b[0m\u001b[1m \u001b[0m┃\n",
       "┡━━━━━━━━━━━━━━━━━━━━━━━━━━━━━━━━━╇━━━━━━━━━━━━━━━━━━━━━━━━╇━━━━━━━━━━━━━━━┩\n",
       "│ lstm (\u001b[38;5;33mLSTM\u001b[0m)                     │ (\u001b[38;5;45mNone\u001b[0m, \u001b[38;5;34m1\u001b[0m, \u001b[38;5;34m256\u001b[0m)         │       \u001b[38;5;34m270,336\u001b[0m │\n",
       "├─────────────────────────────────┼────────────────────────┼───────────────┤\n",
       "│ dropout (\u001b[38;5;33mDropout\u001b[0m)               │ (\u001b[38;5;45mNone\u001b[0m, \u001b[38;5;34m1\u001b[0m, \u001b[38;5;34m256\u001b[0m)         │             \u001b[38;5;34m0\u001b[0m │\n",
       "├─────────────────────────────────┼────────────────────────┼───────────────┤\n",
       "│ dense (\u001b[38;5;33mDense\u001b[0m)                   │ (\u001b[38;5;45mNone\u001b[0m, \u001b[38;5;34m1\u001b[0m, \u001b[38;5;34m1\u001b[0m)           │           \u001b[38;5;34m257\u001b[0m │\n",
       "├─────────────────────────────────┼────────────────────────┼───────────────┤\n",
       "│ flatten (\u001b[38;5;33mFlatten\u001b[0m)               │ (\u001b[38;5;45mNone\u001b[0m, \u001b[38;5;34m1\u001b[0m)              │             \u001b[38;5;34m0\u001b[0m │\n",
       "└─────────────────────────────────┴────────────────────────┴───────────────┘\n"
      ]
     },
     "metadata": {},
     "output_type": "display_data"
    },
    {
     "data": {
      "text/html": [
       "<pre style=\"white-space:pre;overflow-x:auto;line-height:normal;font-family:Menlo,'DejaVu Sans Mono',consolas,'Courier New',monospace\"><span style=\"font-weight: bold\"> Total params: </span><span style=\"color: #00af00; text-decoration-color: #00af00\">270,593</span> (1.03 MB)\n",
       "</pre>\n"
      ],
      "text/plain": [
       "\u001b[1m Total params: \u001b[0m\u001b[38;5;34m270,593\u001b[0m (1.03 MB)\n"
      ]
     },
     "metadata": {},
     "output_type": "display_data"
    },
    {
     "data": {
      "text/html": [
       "<pre style=\"white-space:pre;overflow-x:auto;line-height:normal;font-family:Menlo,'DejaVu Sans Mono',consolas,'Courier New',monospace\"><span style=\"font-weight: bold\"> Trainable params: </span><span style=\"color: #00af00; text-decoration-color: #00af00\">270,593</span> (1.03 MB)\n",
       "</pre>\n"
      ],
      "text/plain": [
       "\u001b[1m Trainable params: \u001b[0m\u001b[38;5;34m270,593\u001b[0m (1.03 MB)\n"
      ]
     },
     "metadata": {},
     "output_type": "display_data"
    },
    {
     "data": {
      "text/html": [
       "<pre style=\"white-space:pre;overflow-x:auto;line-height:normal;font-family:Menlo,'DejaVu Sans Mono',consolas,'Courier New',monospace\"><span style=\"font-weight: bold\"> Non-trainable params: </span><span style=\"color: #00af00; text-decoration-color: #00af00\">0</span> (0.00 B)\n",
       "</pre>\n"
      ],
      "text/plain": [
       "\u001b[1m Non-trainable params: \u001b[0m\u001b[38;5;34m0\u001b[0m (0.00 B)\n"
      ]
     },
     "metadata": {},
     "output_type": "display_data"
    }
   ],
   "source": [
    "tf.saved_model.save(model, 'model')\n",
    "model.summary()"
   ]
  },
  {
   "cell_type": "code",
   "execution_count": 6,
   "id": "b2f28f3b-5178-4259-b617-90a1239ccace",
   "metadata": {},
   "outputs": [
    {
     "name": "stdout",
     "output_type": "stream",
     "text": [
      "Epoch 1/20\n",
      "\u001b[1m38/38\u001b[0m \u001b[32m━━━━━━━━━━━━━━━━━━━━\u001b[0m\u001b[37m\u001b[0m \u001b[1m3s\u001b[0m 19ms/step - loss: 0.8570 - mae: 0.7706 - val_loss: 0.4219 - val_mae: 0.5318\n",
      "Epoch 2/20\n",
      "\u001b[1m38/38\u001b[0m \u001b[32m━━━━━━━━━━━━━━━━━━━━\u001b[0m\u001b[37m\u001b[0m \u001b[1m0s\u001b[0m 12ms/step - loss: 0.2859 - mae: 0.4313 - val_loss: 0.0488 - val_mae: 0.1634\n",
      "Epoch 3/20\n",
      "\u001b[1m38/38\u001b[0m \u001b[32m━━━━━━━━━━━━━━━━━━━━\u001b[0m\u001b[37m\u001b[0m \u001b[1m1s\u001b[0m 14ms/step - loss: 0.0329 - mae: 0.1387 - val_loss: 0.0141 - val_mae: 0.0825\n",
      "Epoch 4/20\n",
      "\u001b[1m38/38\u001b[0m \u001b[32m━━━━━━━━━━━━━━━━━━━━\u001b[0m\u001b[37m\u001b[0m \u001b[1m1s\u001b[0m 14ms/step - loss: 0.0122 - mae: 0.0813 - val_loss: 0.0103 - val_mae: 0.0659\n",
      "Epoch 5/20\n",
      "\u001b[1m38/38\u001b[0m \u001b[32m━━━━━━━━━━━━━━━━━━━━\u001b[0m\u001b[37m\u001b[0m \u001b[1m0s\u001b[0m 12ms/step - loss: 0.0127 - mae: 0.0791 - val_loss: 0.0082 - val_mae: 0.0602\n",
      "Epoch 6/20\n",
      "\u001b[1m38/38\u001b[0m \u001b[32m━━━━━━━━━━━━━━━━━━━━\u001b[0m\u001b[37m\u001b[0m \u001b[1m0s\u001b[0m 12ms/step - loss: 0.0104 - mae: 0.0685 - val_loss: 0.0066 - val_mae: 0.0537\n",
      "Epoch 7/20\n",
      "\u001b[1m38/38\u001b[0m \u001b[32m━━━━━━━━━━━━━━━━━━━━\u001b[0m\u001b[37m\u001b[0m \u001b[1m0s\u001b[0m 12ms/step - loss: 0.0075 - mae: 0.0610 - val_loss: 0.0053 - val_mae: 0.0453\n",
      "Epoch 8/20\n",
      "\u001b[1m38/38\u001b[0m \u001b[32m━━━━━━━━━━━━━━━━━━━━\u001b[0m\u001b[37m\u001b[0m \u001b[1m0s\u001b[0m 12ms/step - loss: 0.0068 - mae: 0.0594 - val_loss: 0.0047 - val_mae: 0.0412\n",
      "Epoch 9/20\n",
      "\u001b[1m38/38\u001b[0m \u001b[32m━━━━━━━━━━━━━━━━━━━━\u001b[0m\u001b[37m\u001b[0m \u001b[1m0s\u001b[0m 12ms/step - loss: 0.0056 - mae: 0.0544 - val_loss: 0.0041 - val_mae: 0.0408\n",
      "Epoch 10/20\n",
      "\u001b[1m38/38\u001b[0m \u001b[32m━━━━━━━━━━━━━━━━━━━━\u001b[0m\u001b[37m\u001b[0m \u001b[1m0s\u001b[0m 12ms/step - loss: 0.0048 - mae: 0.0503 - val_loss: 0.0039 - val_mae: 0.0390\n",
      "Epoch 11/20\n",
      "\u001b[1m38/38\u001b[0m \u001b[32m━━━━━━━━━━━━━━━━━━━━\u001b[0m\u001b[37m\u001b[0m \u001b[1m1s\u001b[0m 14ms/step - loss: 0.0051 - mae: 0.0520 - val_loss: 0.0032 - val_mae: 0.0333\n",
      "Epoch 12/20\n",
      "\u001b[1m38/38\u001b[0m \u001b[32m━━━━━━━━━━━━━━━━━━━━\u001b[0m\u001b[37m\u001b[0m \u001b[1m1s\u001b[0m 14ms/step - loss: 0.0048 - mae: 0.0515 - val_loss: 0.0029 - val_mae: 0.0317\n",
      "Epoch 13/20\n",
      "\u001b[1m38/38\u001b[0m \u001b[32m━━━━━━━━━━━━━━━━━━━━\u001b[0m\u001b[37m\u001b[0m \u001b[1m0s\u001b[0m 12ms/step - loss: 0.0044 - mae: 0.0467 - val_loss: 0.0026 - val_mae: 0.0302\n",
      "Epoch 14/20\n",
      "\u001b[1m38/38\u001b[0m \u001b[32m━━━━━━━━━━━━━━━━━━━━\u001b[0m\u001b[37m\u001b[0m \u001b[1m0s\u001b[0m 12ms/step - loss: 0.0042 - mae: 0.0475 - val_loss: 0.0023 - val_mae: 0.0260\n",
      "Epoch 15/20\n",
      "\u001b[1m38/38\u001b[0m \u001b[32m━━━━━━━━━━━━━━━━━━━━\u001b[0m\u001b[37m\u001b[0m \u001b[1m0s\u001b[0m 12ms/step - loss: 0.0040 - mae: 0.0456 - val_loss: 0.0023 - val_mae: 0.0270\n",
      "Epoch 16/20\n",
      "\u001b[1m38/38\u001b[0m \u001b[32m━━━━━━━━━━━━━━━━━━━━\u001b[0m\u001b[37m\u001b[0m \u001b[1m0s\u001b[0m 12ms/step - loss: 0.0042 - mae: 0.0465 - val_loss: 0.0023 - val_mae: 0.0278\n",
      "Epoch 17/20\n",
      "\u001b[1m38/38\u001b[0m \u001b[32m━━━━━━━━━━━━━━━━━━━━\u001b[0m\u001b[37m\u001b[0m \u001b[1m0s\u001b[0m 12ms/step - loss: 0.0036 - mae: 0.0442 - val_loss: 0.0020 - val_mae: 0.0233\n",
      "Epoch 18/20\n",
      "\u001b[1m38/38\u001b[0m \u001b[32m━━━━━━━━━━━━━━━━━━━━\u001b[0m\u001b[37m\u001b[0m \u001b[1m0s\u001b[0m 12ms/step - loss: 0.0039 - mae: 0.0426 - val_loss: 0.0020 - val_mae: 0.0271\n",
      "Epoch 19/20\n",
      "\u001b[1m38/38\u001b[0m \u001b[32m━━━━━━━━━━━━━━━━━━━━\u001b[0m\u001b[37m\u001b[0m \u001b[1m1s\u001b[0m 14ms/step - loss: 0.0033 - mae: 0.0420 - val_loss: 0.0019 - val_mae: 0.0244\n",
      "Epoch 20/20\n",
      "\u001b[1m38/38\u001b[0m \u001b[32m━━━━━━━━━━━━━━━━━━━━\u001b[0m\u001b[37m\u001b[0m \u001b[1m1s\u001b[0m 14ms/step - loss: 0.0033 - mae: 0.0419 - val_loss: 0.0018 - val_mae: 0.0212\n"
     ]
    },
    {
     "data": {
      "text/plain": [
       "<keras.src.callbacks.history.History at 0x7ffe58463390>"
      ]
     },
     "execution_count": 6,
     "metadata": {},
     "output_type": "execute_result"
    }
   ],
   "source": [
    "model.fit(X_train, Y_train, epochs=20, batch_size=32, validation_split=0.2)"
   ]
  },
  {
   "cell_type": "markdown",
   "id": "583fb680-d742-425e-bacb-de332c28bc5b",
   "metadata": {},
   "source": [
    "<h3>Model evaluation</h3>"
   ]
  },
  {
   "cell_type": "code",
   "execution_count": 7,
   "id": "1cdd57fe-a6a1-42b0-8823-e82622e8e7ac",
   "metadata": {},
   "outputs": [
    {
     "name": "stdout",
     "output_type": "stream",
     "text": [
      "\u001b[1m12/12\u001b[0m \u001b[32m━━━━━━━━━━━━━━━━━━━━\u001b[0m\u001b[37m\u001b[0m \u001b[1m0s\u001b[0m 3ms/step - loss: 0.0020 - mae: 0.0316\n",
      "Loss: 0.001966342329978943\n",
      "MAE: 0.031830355525016785\n"
     ]
    }
   ],
   "source": [
    "# Evaluation du modèle sur l'ensemble de test\n",
    "loss, mae = model.evaluate(X_test, Y_test)\n",
    "\n",
    "# Affichage des résultats\n",
    "print(f'Loss: {loss}')\n",
    "print(f'MAE: {mae}')"
   ]
  },
  {
   "cell_type": "code",
   "execution_count": 8,
   "id": "399992ef-48a1-49cd-a53e-d7b1a972b773",
   "metadata": {},
   "outputs": [
    {
     "name": "stdout",
     "output_type": "stream",
     "text": [
      "\u001b[1m12/12\u001b[0m \u001b[32m━━━━━━━━━━━━━━━━━━━━\u001b[0m\u001b[37m\u001b[0m \u001b[1m0s\u001b[0m 15ms/step\n"
     ]
    }
   ],
   "source": [
    "y_pred = model.predict(X_test)"
   ]
  },
  {
   "cell_type": "code",
   "execution_count": 9,
   "id": "747612e3-a2c1-45ea-9a25-67ae599fa41b",
   "metadata": {},
   "outputs": [],
   "source": [
    "y_pred_reshaped = y_pred.reshape(-1, y_pred.shape[-1])\n",
    "# Appliquer la dénormalisation\n",
    "y_pred_denormalized = scaler.inverse_transform(y_pred_reshaped)\n",
    "\n",
    "y_test_reshaped = Y_test.reshape(-1, Y_test.shape[-1])\n",
    "# Appliquer la dénormalisation\n",
    "y_test_denormalized = scaler.inverse_transform(y_test_reshaped)"
   ]
  },
  {
   "cell_type": "code",
   "execution_count": 10,
   "id": "e6ecece9-033c-4ec1-92b2-c18118a8f582",
   "metadata": {},
   "outputs": [
    {
     "data": {
      "text/html": [
       "<div>\n",
       "<style scoped>\n",
       "    .dataframe tbody tr th:only-of-type {\n",
       "        vertical-align: middle;\n",
       "    }\n",
       "\n",
       "    .dataframe tbody tr th {\n",
       "        vertical-align: top;\n",
       "    }\n",
       "\n",
       "    .dataframe thead th {\n",
       "        text-align: right;\n",
       "    }\n",
       "</style>\n",
       "<table border=\"1\" class=\"dataframe\">\n",
       "  <thead>\n",
       "    <tr style=\"text-align: right;\">\n",
       "      <th></th>\n",
       "      <th>Prediction</th>\n",
       "      <th>Actual data</th>\n",
       "    </tr>\n",
       "  </thead>\n",
       "  <tbody>\n",
       "    <tr>\n",
       "      <th>count</th>\n",
       "      <td>374.000000</td>\n",
       "      <td>374.000000</td>\n",
       "    </tr>\n",
       "    <tr>\n",
       "      <th>mean</th>\n",
       "      <td>14.570447</td>\n",
       "      <td>14.537701</td>\n",
       "    </tr>\n",
       "    <tr>\n",
       "      <th>std</th>\n",
       "      <td>7.407597</td>\n",
       "      <td>7.263737</td>\n",
       "    </tr>\n",
       "    <tr>\n",
       "      <th>min</th>\n",
       "      <td>-5.154404</td>\n",
       "      <td>-4.800000</td>\n",
       "    </tr>\n",
       "    <tr>\n",
       "      <th>25%</th>\n",
       "      <td>8.936217</td>\n",
       "      <td>9.125000</td>\n",
       "    </tr>\n",
       "    <tr>\n",
       "      <th>50%</th>\n",
       "      <td>14.270420</td>\n",
       "      <td>14.200000</td>\n",
       "    </tr>\n",
       "    <tr>\n",
       "      <th>75%</th>\n",
       "      <td>20.881694</td>\n",
       "      <td>20.500000</td>\n",
       "    </tr>\n",
       "    <tr>\n",
       "      <th>max</th>\n",
       "      <td>32.897327</td>\n",
       "      <td>32.900000</td>\n",
       "    </tr>\n",
       "  </tbody>\n",
       "</table>\n",
       "</div>"
      ],
      "text/plain": [
       "       Prediction  Actual data\n",
       "count  374.000000   374.000000\n",
       "mean    14.570447    14.537701\n",
       "std      7.407597     7.263737\n",
       "min     -5.154404    -4.800000\n",
       "25%      8.936217     9.125000\n",
       "50%     14.270420    14.200000\n",
       "75%     20.881694    20.500000\n",
       "max     32.897327    32.900000"
      ]
     },
     "execution_count": 10,
     "metadata": {},
     "output_type": "execute_result"
    }
   ],
   "source": [
    "pred = pd.DataFrame(y_pred_denormalized, columns=['Prediction'])\n",
    "test = pd.DataFrame(y_test_denormalized, columns=['Actual data'])\n",
    "df = pd.concat([pred,test], axis=1)\n",
    "df.describe()"
   ]
  },
  {
   "cell_type": "code",
   "execution_count": 11,
   "id": "72660e86-5ccd-40b7-b1a6-893fac354728",
   "metadata": {},
   "outputs": [
    {
     "data": {
      "text/plain": [
       "Text(0, 0.5, 'Temperature in Celsius')"
      ]
     },
     "execution_count": 11,
     "metadata": {},
     "output_type": "execute_result"
    },
    {
     "data": {
      "image/png": "[encoded data removed]",
      "text/plain": [
       "<Figure size 1000x600 with 1 Axes>"
      ]
     },
     "metadata": {},
     "output_type": "display_data"
    }
   ],
   "source": [
    "mpl.style.use(['ggplot'])\n",
    "df.sample(n=50, replace=False).plot(title='LSTM prediction vs actual data', kind='bar',figsize=(10, 6))\n",
    "plt.xlabel('Observations')\n",
    "plt.ylabel('Temperature in Celsius')"
   ]
  },
  {
   "cell_type": "code",
   "execution_count": 12,
   "id": "82ab5103-0a87-4a6d-a555-2bb36f839502",
   "metadata": {},
   "outputs": [
    {
     "data": {
      "text/plain": [
       "Text(0, 0.5, 'Temperature in Celsius')"
      ]
     },
     "execution_count": 12,
     "metadata": {},
     "output_type": "execute_result"
    },
    {
     "data": {
      "image/png": "[encoded data removed]",
      "text/plain": [
       "<Figure size 1000x600 with 1 Axes>"
      ]
     },
     "metadata": {},
     "output_type": "display_data"
    }
   ],
   "source": [
    "df[['Prediction','Actual data']].plot(kind='box', color='green', figsize=(10, 6))\n",
    "plt.ylabel('Temperature in Celsius')"
   ]
  },
  {
   "cell_type": "markdown",
   "id": "250b1bf7-152e-4d6f-803b-ba8479940c34",
   "metadata": {},
   "source": [
    "<h3>Citation</h3>\n",
    "Essential WMO SYNOP data, Météo France"
   ]
  }
 ],
 "metadata": {
  "kernelspec": {
   "display_name": "Python 3",
   "language": "python",
   "name": "python3"
  },
  "language_info": {
   "codemirror_mode": {
    "name": "ipython",
    "version": 3
   },
   "file_extension": ".py",
   "mimetype": "text/x-python",
   "name": "python",
   "nbconvert_exporter": "python",
   "pygments_lexer": "ipython3",
   "version": "3.11.8"
  }
 },
 "nbformat": 4,
 "nbformat_minor": 5
}
